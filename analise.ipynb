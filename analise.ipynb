{
 "cells": [
  {
   "cell_type": "code",
   "execution_count": 1,
   "metadata": {
    "colab": {
     "base_uri": "https://localhost:8080/",
     "height": 34
    },
    "colab_type": "code",
    "executionInfo": {
     "elapsed": 722,
     "status": "ok",
     "timestamp": 1566350175390,
     "user": {
      "displayName": "Billyfranklim Pereira",
      "photoUrl": "https://lh3.googleusercontent.com/a-/AAuE7mAB2PBHDfXX9k9R9k5fRjc4j8UTXi0KHDPqcoaBAcQ=s64",
      "userId": "18281492114920847785"
     },
     "user_tz": 180
    },
    "id": "evfxfPAPuDVE",
    "outputId": "4303b2c5-f03c-41b3-c918-28bc6105b018"
   },
   "outputs": [],
   "source": [
    "import pandas as pd # manipulação de dados\n",
    "import matplotlib.pyplot as plt # visualização dos dados\n",
    "from scipy import stats # funções estatísticas\n",
    "from datetime import datetime as dt\n",
    "import numpy as np\n",
    "import math\n",
    "\n",
    "#from google.colab import drive\n",
    "#drive.mount('/content/drive')"
   ]
  },
  {
   "cell_type": "code",
   "execution_count": 2,
   "metadata": {},
   "outputs": [],
   "source": [
    "#pip install numpy"
   ]
  },
  {
   "cell_type": "code",
   "execution_count": 20,
   "metadata": {
    "colab": {},
    "colab_type": "code",
    "id": "l3HV9yP5uDVI"
   },
   "outputs": [],
   "source": [
    "def convhora(str_date):\n",
    "    data = []\n",
    "    for i in range(len(str_date)):\n",
    "        if(i>10):\n",
    "            data.append(str_date[i])\n",
    "#     return ('{}{}{}{}{}'.format(data[0],data[1],data[2],data[3],data[4]))\n",
    "    return ('%d%d' % (int(data[0]),int(data[1])))\n",
    "\n",
    "# def formahora(str_date):\n",
    "#     data = []\n",
    "#     for i in range(len(str_date)):\n",
    "#         if(i>10):\n",
    "#             data.append(str_date[i])\n",
    "# #     return ('{}{}{}{}{}'.format(data[0],data[1],data[2],data[3],data[4]))\n",
    "#     return ('%d%d' % (int(data[0]),int(data[1])))\n",
    "\n",
    "\n",
    "def convdata(str_date):\n",
    "    data = []\n",
    "    for i in range(len(str_date)):\n",
    "        if(i<10):\n",
    "            data.append(str_date[i])\n",
    "    return ('{}{}{}{}{}{}{}{}{}{}'.format(data[0],data[1],data[2],data[3],data[4],data[5],data[6],data[7],data[8],data[9]))\n",
    "\n",
    "def dt_formart(str_date):\n",
    "    data = []\n",
    "    for i in range(len(str_date)):\n",
    "        if(i<10):\n",
    "            data.append(str_date[i])\n",
    "    return ('{}{}{}{}-{}{}-{}{}'.format(data[0],data[1],data[2],data[3],data[5],data[6],data[8],data[9]))\n",
    "\n",
    "def hr_formart(str_date):\n",
    "    data = []\n",
    "    for i in range(len(str_date)):\n",
    "        if(i<10):\n",
    "            data.append(str_date[i])\n",
    "    return ('{}'.format(data[10]))\n",
    "\n",
    "\n",
    "\n",
    "def status (valor):\n",
    "    if(valor > 70 and valor < 180):\n",
    "        return 2\n",
    "    elif(valor < 70):\n",
    "        return 1\n",
    "    else:\n",
    "        return 3\n",
    "\n",
    "convhora1 = lambda x:convhora(x)\n",
    "convdata1 = lambda x:convdata(x)\n",
    "status1 = lambda x:status(x)\n",
    "\n",
    "hr_formart1 = lambda x:hr_formart1(x)\n",
    "dt_format1 = lambda x:dt_formart(x)\n",
    "\n",
    "def histo(values):\n",
    "    fig = plt.figure()\n",
    "    ax1 = fig.add_subplot(1,1,1)\n",
    "    _ = ax1.hist(values)\n",
    "    fig.show()\n",
    "    \n",
    "def distEuclidiana_np(v1,v2):\n",
    "    v1,v2 = np.array(v1),np.array(v2)\n",
    "    diferenca = v1 - v2\n",
    "    quadrado_distancia = np.dot(diferenca,diferenca)\n",
    "    return math.sqrt(quadrado_distancia)"
   ]
  },
  {
   "cell_type": "code",
   "execution_count": 22,
   "metadata": {},
   "outputs": [
    {
     "ename": "RecursionError",
     "evalue": "maximum recursion depth exceeded",
     "output_type": "error",
     "traceback": [
      "\u001b[1;31m---------------------------------------------------------------------------\u001b[0m",
      "\u001b[1;31mRecursionError\u001b[0m                            Traceback (most recent call last)",
      "\u001b[1;32m<ipython-input-22-892da2082564>\u001b[0m in \u001b[0;36m<module>\u001b[1;34m\u001b[0m\n\u001b[0;32m      1\u001b[0m \u001b[1;31m# hr_formart('2018/12/31 05:31')\u001b[0m\u001b[1;33m\u001b[0m\u001b[1;33m\u001b[0m\u001b[1;33m\u001b[0m\u001b[0m\n\u001b[1;32m----> 2\u001b[1;33m \u001b[0mhr_formart1\u001b[0m\u001b[1;33m(\u001b[0m\u001b[1;33m[\u001b[0m\u001b[1;34m'2018/12/31 05:31'\u001b[0m\u001b[1;33m]\u001b[0m\u001b[1;33m)\u001b[0m\u001b[1;33m\u001b[0m\u001b[1;33m\u001b[0m\u001b[0m\n\u001b[0m",
      "\u001b[1;32m<ipython-input-20-30c3a5c72943>\u001b[0m in \u001b[0;36m<lambda>\u001b[1;34m(x)\u001b[0m\n\u001b[0;32m     51\u001b[0m \u001b[0mstatus1\u001b[0m \u001b[1;33m=\u001b[0m \u001b[1;32mlambda\u001b[0m \u001b[0mx\u001b[0m\u001b[1;33m:\u001b[0m\u001b[0mstatus\u001b[0m\u001b[1;33m(\u001b[0m\u001b[0mx\u001b[0m\u001b[1;33m)\u001b[0m\u001b[1;33m\u001b[0m\u001b[1;33m\u001b[0m\u001b[0m\n\u001b[0;32m     52\u001b[0m \u001b[1;33m\u001b[0m\u001b[0m\n\u001b[1;32m---> 53\u001b[1;33m \u001b[0mhr_formart1\u001b[0m \u001b[1;33m=\u001b[0m \u001b[1;32mlambda\u001b[0m \u001b[0mx\u001b[0m\u001b[1;33m:\u001b[0m\u001b[0mhr_formart1\u001b[0m\u001b[1;33m(\u001b[0m\u001b[0mx\u001b[0m\u001b[1;33m)\u001b[0m\u001b[1;33m\u001b[0m\u001b[1;33m\u001b[0m\u001b[0m\n\u001b[0m\u001b[0;32m     54\u001b[0m \u001b[0mdt_format1\u001b[0m \u001b[1;33m=\u001b[0m \u001b[1;32mlambda\u001b[0m \u001b[0mx\u001b[0m\u001b[1;33m:\u001b[0m\u001b[0mdt_formart\u001b[0m\u001b[1;33m(\u001b[0m\u001b[0mx\u001b[0m\u001b[1;33m)\u001b[0m\u001b[1;33m\u001b[0m\u001b[1;33m\u001b[0m\u001b[0m\n\u001b[0;32m     55\u001b[0m \u001b[1;33m\u001b[0m\u001b[0m\n",
      "... last 1 frames repeated, from the frame below ...\n",
      "\u001b[1;32m<ipython-input-20-30c3a5c72943>\u001b[0m in \u001b[0;36m<lambda>\u001b[1;34m(x)\u001b[0m\n\u001b[0;32m     51\u001b[0m \u001b[0mstatus1\u001b[0m \u001b[1;33m=\u001b[0m \u001b[1;32mlambda\u001b[0m \u001b[0mx\u001b[0m\u001b[1;33m:\u001b[0m\u001b[0mstatus\u001b[0m\u001b[1;33m(\u001b[0m\u001b[0mx\u001b[0m\u001b[1;33m)\u001b[0m\u001b[1;33m\u001b[0m\u001b[1;33m\u001b[0m\u001b[0m\n\u001b[0;32m     52\u001b[0m \u001b[1;33m\u001b[0m\u001b[0m\n\u001b[1;32m---> 53\u001b[1;33m \u001b[0mhr_formart1\u001b[0m \u001b[1;33m=\u001b[0m \u001b[1;32mlambda\u001b[0m \u001b[0mx\u001b[0m\u001b[1;33m:\u001b[0m\u001b[0mhr_formart1\u001b[0m\u001b[1;33m(\u001b[0m\u001b[0mx\u001b[0m\u001b[1;33m)\u001b[0m\u001b[1;33m\u001b[0m\u001b[1;33m\u001b[0m\u001b[0m\n\u001b[0m\u001b[0;32m     54\u001b[0m \u001b[0mdt_format1\u001b[0m \u001b[1;33m=\u001b[0m \u001b[1;32mlambda\u001b[0m \u001b[0mx\u001b[0m\u001b[1;33m:\u001b[0m\u001b[0mdt_formart\u001b[0m\u001b[1;33m(\u001b[0m\u001b[0mx\u001b[0m\u001b[1;33m)\u001b[0m\u001b[1;33m\u001b[0m\u001b[1;33m\u001b[0m\u001b[0m\n\u001b[0;32m     55\u001b[0m \u001b[1;33m\u001b[0m\u001b[0m\n",
      "\u001b[1;31mRecursionError\u001b[0m: maximum recursion depth exceeded"
     ]
    }
   ],
   "source": [
    "# hr_formart('2018/12/31 05:31')\n",
    "hr_formart1(['2018/12/31 05:31'])"
   ]
  },
  {
   "cell_type": "code",
   "execution_count": 174,
   "metadata": {
    "colab": {},
    "colab_type": "code",
    "id": "P7vhBw3MuDVO"
   },
   "outputs": [],
   "source": [
    "database = pd.read_csv('database.csv')\n",
    "\n",
    "db = pd.DataFrame({\n",
    "    'Data':[convdata1(i) for i in database['data_hora']],\n",
    "    'Hora':[convhora1(i) for i in database['data_hora']],\n",
    "    'hh':[convhora1(i) for i in database['data_hora']],\n",
    "    'Glicose':database['glicose'],\n",
    "    'Status':[status1(i) for i in database['glicose']],\n",
    "    'weekday': [pd.to_datetime(dt_format1(i)).dayofweek for i in database['data_hora']],\n",
    "    'week': [pd.to_datetime(dt_format1(i)).week for i in database['data_hora']]\n",
    "})\n",
    "\n",
    "\n",
    "semana_1 = pd.DataFrame(db.loc[(db['week'] == 1) & (db['weekday'] == 0 ) ])\n",
    "semana_1 = semana_1.groupby('Hora').mean()\n",
    "semana_1 = semana_1.reset_index(drop=True)\n",
    "# print(semana_1)\n",
    "\n",
    "semana_2 = pd.DataFrame(db.loc[(db['week'] == 2) & (db['weekday'] == 0 ) ])\n",
    "semana_2 = semana_2.groupby('Hora').mean()\n",
    "semana_2 = semana_2.reset_index(drop=True)\n",
    "\n",
    "semana_3 = pd.DataFrame(db.loc[(db['week'] == 3) & (db['weekday'] == 0 ) ])\n",
    "semana_3 = semana_3.groupby('Hora').mean()\n",
    "semana_3 = semana_3.reset_index(drop=True)\n",
    "\n",
    "semana_4 = pd.DataFrame(db.loc[(db['week'] == 4) & (db['weekday'] == 0 ) ])\n",
    "semana_4 = semana_4.groupby('Hora').mean()\n",
    "semana_4 = semana_4.reset_index(drop=True)\n",
    "\n",
    "\n",
    "semana_5 = pd.DataFrame(db.loc[(db['week'] == 5) & (db['weekday'] == 0 ) ])\n",
    "semana_5 = semana_5.groupby('Hora').mean()\n",
    "semana_5 = semana_5.reset_index(drop=True)\n",
    "# print(semana_2)\n"
   ]
  },
  {
   "cell_type": "code",
   "execution_count": 175,
   "metadata": {},
   "outputs": [
    {
     "data": {
      "image/png": "[encoded data removed]",
      "text/plain": [
       "<Figure size 432x288 with 1 Axes>"
      ]
     },
     "metadata": {
      "needs_background": "light"
     },
     "output_type": "display_data"
    }
   ],
   "source": [
    "horas    = []\n",
    "glicemia = []\n",
    "\n",
    "for i in range(len(semana_1['Glicose'])):\n",
    "    horas.insert(i, semana_1['Glicose'][i])\n",
    "#     glicemia.insert(i, semana_1['Hora'][i])\n",
    "    glicemia.insert(i, i)\n",
    "\n",
    "\n",
    "plt.plot( glicemia,horas)\n",
    "\n",
    "x1 = horas#[10,20,30]\n",
    "y1 = glicemia#[20,40,10]\n"
   ]
  },
  {
   "cell_type": "code",
   "execution_count": 176,
   "metadata": {},
   "outputs": [],
   "source": [
    "\n",
    "horas    = []\n",
    "glicemia = []\n",
    "\n",
    "for i in range(len(semana_2['Glicose'])):\n",
    "    horas.insert(i, semana_2['Glicose'][i])\n",
    "#     glicemia.insert(i, semana_2['Hora'][i])\n",
    "    glicemia.insert(i, i)\n",
    "\n",
    "\n",
    "# plt.plot( glicemia,horas)\n",
    "\n",
    "\n",
    "x2 = horas #[10,20,30]\n",
    "y2 = glicemia#[40,10,30]"
   ]
  },
  {
   "cell_type": "code",
   "execution_count": 180,
   "metadata": {},
   "outputs": [],
   "source": [
    "horas    = []\n",
    "glicemia = []\n",
    "\n",
    "for i in range(len(semana_3['Glicose'])):\n",
    "    horas.insert(i, semana_3['Glicose'][i])\n",
    "#     glicemia.insert(i, semana_3['Hora'][i])\n",
    "    glicemia.insert(i, i)\n",
    "\n",
    "    \n",
    "x3 = horas #[10,20,30]\n",
    "y3 = glicemia#[40,10,30]\n",
    "\n",
    "horas    = []\n",
    "glicemia = []\n",
    "\n",
    "for i in range(len(semana_4['Glicose'])):\n",
    "    horas.insert(i, semana_4['Glicose'][i])\n",
    "#     glicemia.insert(i, semana_3['Hora'][i])\n",
    "    glicemia.insert(i, i)\n",
    "\n",
    "    \n",
    "x4 = horas #[10,20,30]\n",
    "y4 = glicemia#[40,10,30]\n",
    "\n",
    "\n",
    "horas    = []\n",
    "glicemia = []\n",
    "\n",
    "for i in range(len(semana_5['Glicose'])):\n",
    "    horas.insert(i, semana_5['Glicose'][i])\n",
    "#     glicemia.insert(i, semana_3['Hora'][i])\n",
    "    glicemia.insert(i, i)\n",
    "\n",
    "    \n",
    "x5 = horas #[10,20,30]\n",
    "y5 = glicemia#[40,10,30]\n",
    "\n",
    "# plt.plot( glicemia,horas)\n",
    "# plt.plot( glicemia,horas)"
   ]
  },
  {
   "cell_type": "code",
   "execution_count": 182,
   "metadata": {},
   "outputs": [
    {
     "data": {
      "image/png": "[encoded data removed]",
      "text/plain": [
       "<Figure size 432x288 with 1 Axes>"
      ]
     },
     "metadata": {
      "needs_background": "light"
     },
     "output_type": "display_data"
    }
   ],
   "source": [
    "plt.plot(y1, x1, label = \"Semana 1\")\n",
    "plt.plot(y2, x2, label = \"Semana 2\")\n",
    "plt.plot(y3, x3, label = \"Semana 3\")\n",
    "plt.plot(y4, x4, label = \"Semana 4\")\n",
    "plt.plot(y5, x5, label = \"Semana 5\")\n",
    "\n",
    "\n",
    "plt.xlabel('x - Horas')\n",
    "plt.ylabel('y - Glicemia')\n",
    "# plt.title('Two or more lines on same plot with suitable legends ')\n",
    "# show a legend on the plot\n",
    "plt.legend()\n",
    "# Display a figure.\n",
    "plt.show()"
   ]
  },
  {
   "cell_type": "code",
   "execution_count": 35,
   "metadata": {},
   "outputs": [
    {
     "name": "stdout",
     "output_type": "stream",
     "text": [
      "1784    147\n",
      "1786    158\n",
      "1788    170\n",
      "1790    191\n",
      "1792    212\n",
      "       ... \n",
      "4187    138\n",
      "4189    126\n",
      "4190    115\n",
      "4191    111\n",
      "4192    107\n",
      "Name: Glicose, Length: 86, dtype: int64\n"
     ]
    }
   ],
   "source": [
    "meses = db_f['Glicose'] #['Janeiro', 'Fevereiro', 'Março', 'Abril', 'Maio', 'Junho']\n",
    "valores = db['Hora'] #[105235, 107697, 110256, 109236, 108859, 109986]\n",
    "plt.plot(meses, valores)\n",
    "# db\n",
    "# pd.to_datetime('2018-11-25').dayofweek"
   ]
  },
  {
   "cell_type": "code",
   "execution_count": null,
   "metadata": {},
   "outputs": [],
   "source": []
  },
  {
   "cell_type": "code",
   "execution_count": null,
   "metadata": {
    "colab": {},
    "colab_type": "code",
    "id": "ZiT9fMBIuQtV"
   },
   "outputs": [],
   "source": []
  },
  {
   "cell_type": "code",
   "execution_count": 6,
   "metadata": {
    "colab": {},
    "colab_type": "code",
    "id": "Vv4uTEXpuDVU"
   },
   "outputs": [
    {
     "ename": "AttributeError",
     "evalue": "'DataFrame' object has no attribute 'Hora'",
     "output_type": "error",
     "traceback": [
      "\u001b[1;31m---------------------------------------------------------------------------\u001b[0m",
      "\u001b[1;31mAttributeError\u001b[0m                            Traceback (most recent call last)",
      "\u001b[1;32m<ipython-input-6-f01260eeef6d>\u001b[0m in \u001b[0;36m<module>\u001b[1;34m\u001b[0m\n\u001b[0;32m      3\u001b[0m \u001b[1;31m#     amostras.append([db.Hora[i],db.Glicose[i],db.Status[i]])\u001b[0m\u001b[1;33m\u001b[0m\u001b[1;33m\u001b[0m\u001b[1;33m\u001b[0m\u001b[0m\n\u001b[0;32m      4\u001b[0m \u001b[1;31m#     amostras.append([int(db.Hora[i]),db.Glicose[i],db.Status[i]])\u001b[0m\u001b[1;33m\u001b[0m\u001b[1;33m\u001b[0m\u001b[1;33m\u001b[0m\u001b[0m\n\u001b[1;32m----> 5\u001b[1;33m     \u001b[0mamostras\u001b[0m\u001b[1;33m.\u001b[0m\u001b[0mappend\u001b[0m\u001b[1;33m(\u001b[0m\u001b[1;33m[\u001b[0m\u001b[0mint\u001b[0m\u001b[1;33m(\u001b[0m\u001b[0mdb\u001b[0m\u001b[1;33m.\u001b[0m\u001b[0mHora\u001b[0m\u001b[1;33m[\u001b[0m\u001b[0mi\u001b[0m\u001b[1;33m]\u001b[0m\u001b[1;33m)\u001b[0m\u001b[1;33m,\u001b[0m\u001b[0mdb\u001b[0m\u001b[1;33m.\u001b[0m\u001b[0mStatus\u001b[0m\u001b[1;33m[\u001b[0m\u001b[0mi\u001b[0m\u001b[1;33m]\u001b[0m\u001b[1;33m]\u001b[0m\u001b[1;33m)\u001b[0m\u001b[1;33m\u001b[0m\u001b[1;33m\u001b[0m\u001b[0m\n\u001b[0m\u001b[0;32m      6\u001b[0m \u001b[1;33m\u001b[0m\u001b[0m\n\u001b[0;32m      7\u001b[0m \u001b[1;31m# amostras\u001b[0m\u001b[1;33m\u001b[0m\u001b[1;33m\u001b[0m\u001b[1;33m\u001b[0m\u001b[0m\n",
      "\u001b[1;32md:\\pro\\lib\\site-packages\\pandas\\core\\generic.py\u001b[0m in \u001b[0;36m__getattr__\u001b[1;34m(self, name)\u001b[0m\n\u001b[0;32m   5272\u001b[0m             \u001b[1;32mif\u001b[0m \u001b[0mself\u001b[0m\u001b[1;33m.\u001b[0m\u001b[0m_info_axis\u001b[0m\u001b[1;33m.\u001b[0m\u001b[0m_can_hold_identifiers_and_holds_name\u001b[0m\u001b[1;33m(\u001b[0m\u001b[0mname\u001b[0m\u001b[1;33m)\u001b[0m\u001b[1;33m:\u001b[0m\u001b[1;33m\u001b[0m\u001b[1;33m\u001b[0m\u001b[0m\n\u001b[0;32m   5273\u001b[0m                 \u001b[1;32mreturn\u001b[0m \u001b[0mself\u001b[0m\u001b[1;33m[\u001b[0m\u001b[0mname\u001b[0m\u001b[1;33m]\u001b[0m\u001b[1;33m\u001b[0m\u001b[1;33m\u001b[0m\u001b[0m\n\u001b[1;32m-> 5274\u001b[1;33m             \u001b[1;32mreturn\u001b[0m \u001b[0mobject\u001b[0m\u001b[1;33m.\u001b[0m\u001b[0m__getattribute__\u001b[0m\u001b[1;33m(\u001b[0m\u001b[0mself\u001b[0m\u001b[1;33m,\u001b[0m \u001b[0mname\u001b[0m\u001b[1;33m)\u001b[0m\u001b[1;33m\u001b[0m\u001b[1;33m\u001b[0m\u001b[0m\n\u001b[0m\u001b[0;32m   5275\u001b[0m \u001b[1;33m\u001b[0m\u001b[0m\n\u001b[0;32m   5276\u001b[0m     \u001b[1;32mdef\u001b[0m \u001b[0m__setattr__\u001b[0m\u001b[1;33m(\u001b[0m\u001b[0mself\u001b[0m\u001b[1;33m,\u001b[0m \u001b[0mname\u001b[0m\u001b[1;33m:\u001b[0m \u001b[0mstr\u001b[0m\u001b[1;33m,\u001b[0m \u001b[0mvalue\u001b[0m\u001b[1;33m)\u001b[0m \u001b[1;33m->\u001b[0m \u001b[1;32mNone\u001b[0m\u001b[1;33m:\u001b[0m\u001b[1;33m\u001b[0m\u001b[1;33m\u001b[0m\u001b[0m\n",
      "\u001b[1;31mAttributeError\u001b[0m: 'DataFrame' object has no attribute 'Hora'"
     ]
    }
   ],
   "source": [
    "amostras = []\n",
    "for i in range(len(db)):\n",
    "#     amostras.append([db.Hora[i],db.Glicose[i],db.Status[i]])\n",
    "#     amostras.append([int(db.Hora[i]),db.Glicose[i],db.Status[i]])\n",
    "    amostras.append([int(db.Hora[i]),db.Status[i]])\n",
    "\n",
    "# amostras\n",
    "#            "
   ]
  },
  {
   "cell_type": "code",
   "execution_count": null,
   "metadata": {
    "colab": {},
    "colab_type": "code",
    "id": "Eci8GLh_uDVX"
   },
   "outputs": [],
   "source": [
    "def infoDataSet(amostras, verbose=True):\n",
    "    if verbose:\n",
    "        print('Total de amostras: {}'.format(len(amostras)))\n",
    "    rotulo1, rotulo2,rotulo3 = 0,0,3\n",
    "    for amostra in amostras:\n",
    "        if amostra[-1] == 1:\n",
    "            rotulo1 += 1\n",
    "        elif amostra[-1] == 2:\n",
    "            rotulo2 += 1\n",
    "        else:\n",
    "            rotulo3 +=1\n",
    "    if verbose:\n",
    "        print('Total de rotulo 1: {}'.format(rotulo1))\n",
    "        print('Total de rotulo 2: {}'.format(rotulo2))\n",
    "        print('Total de rotulo 3: {}'.format(rotulo3))\n",
    "\n",
    "    return (len(amostras), rotulo1, rotulo2,rotulo3)"
   ]
  },
  {
   "cell_type": "code",
   "execution_count": null,
   "metadata": {
    "colab": {
     "base_uri": "https://localhost:8080/",
     "height": 102
    },
    "colab_type": "code",
    "executionInfo": {
     "elapsed": 671,
     "status": "ok",
     "timestamp": 1566350277274,
     "user": {
      "displayName": "Billyfranklim Pereira",
      "photoUrl": "https://lh3.googleusercontent.com/a-/AAuE7mAB2PBHDfXX9k9R9k5fRjc4j8UTXi0KHDPqcoaBAcQ=s64",
      "userId": "18281492114920847785"
     },
     "user_tz": 180
    },
    "id": "P-5FmIVpuDVa",
    "outputId": "bfc7a93c-05ef-49ba-9c63-0a66f1beef1d"
   },
   "outputs": [],
   "source": [
    "infoDataSet(amostras)"
   ]
  },
  {
   "cell_type": "code",
   "execution_count": null,
   "metadata": {
    "colab": {},
    "colab_type": "code",
    "id": "MOTjf-w5uDVf"
   },
   "outputs": [],
   "source": [
    "p = 0.6\n",
    "_, rotulo1, rotulo2,rotulo3 = infoDataSet(amostras, verbose=False)"
   ]
  },
  {
   "cell_type": "code",
   "execution_count": null,
   "metadata": {
    "colab": {},
    "colab_type": "code",
    "id": "SS4egLsguDVj"
   },
   "outputs": [],
   "source": [
    "treinamento, teste = [],[]\n",
    "max_rotulo1, max_rotulo2,max_rotulo3 = int(p* rotulo1) , int(p*rotulo2), int(p*rotulo3)\n",
    "total_rotulo1, total_rotulo2,total_rotulo3 = 0,0,0\n",
    "for amostra in amostras:\n",
    "    if(total_rotulo1 + total_rotulo2 + total_rotulo3)< (max_rotulo1 + max_rotulo2 + max_rotulo3):\n",
    "        treinamento.append(amostra)\n",
    "        if amostra[-1] == 1 and total_rotulo1 < max_rotulo1 :\n",
    "            total_rotulo1 +=1\n",
    "        elif amostra[-1] == 2 and total_rotulo2 < max_rotulo2 :\n",
    "            total_rotulo2 +=1\n",
    "        else:\n",
    "            total_rotulo3 +=1\n",
    "    else: teste.append(amostra)"
   ]
  },
  {
   "cell_type": "code",
   "execution_count": null,
   "metadata": {
    "colab": {},
    "colab_type": "code",
    "id": "96b6dWlwuDVn"
   },
   "outputs": [],
   "source": [
    "def knn(treino, nova_amostra,k):\n",
    "    distancia, tamTreino = {}, len(treino)\n",
    "    \n",
    "    #calcula a distancia euclidiana da nova amostra \n",
    "    #para todos os outros conjuntos de treinamento\n",
    "    for i in range(tamTreino):\n",
    "        d = distEuclidiana_np(treinamento[i], nova_amostra)\n",
    "        distancia[i] = d       \n",
    "        \n",
    "    #obtem as chaves (indices) dos k-vizinhos mais próximos\n",
    "    kVizihos = sorted(distancia,key=distancia.get)[:k]\n",
    "    \n",
    "    #votação marjoritaria\n",
    "    qnt_rotulo1, qnt_rotulo2,qnt_rotulo3 = 0,0,0\n",
    "    \n",
    "    for indice in kVizihos:\n",
    "        if(treinamento[indice][-1] == 1):\n",
    "            qnt_rotulo1 += 1\n",
    "        elif (treinamento[indice][-1] == 2):\n",
    "            qnt_rotulo2 += 2\n",
    "        else: \n",
    "            qnt_rotulo3 += 3\n",
    "\n",
    "            \n",
    "    if qnt_rotulo1 > qnt_rotulo2 and qnt_rotulo1 > qnt_rotulo3:\n",
    "        return 1\n",
    "    elif qnt_rotulo2 > qnt_rotulo1 and qnt_rotulo2 > qnt_rotulo3:\n",
    "        return 2\n",
    "    else:\n",
    "        return 3\n",
    "        \n",
    "        "
   ]
  },
  {
   "cell_type": "code",
   "execution_count": null,
   "metadata": {
    "colab": {
     "base_uri": "https://localhost:8080/",
     "height": 51
    },
    "colab_type": "code",
    "executionInfo": {
     "elapsed": 685,
     "status": "ok",
     "timestamp": 1566350301128,
     "user": {
      "displayName": "Billyfranklim Pereira",
      "photoUrl": "https://lh3.googleusercontent.com/a-/AAuE7mAB2PBHDfXX9k9R9k5fRjc4j8UTXi0KHDPqcoaBAcQ=s64",
      "userId": "18281492114920847785"
     },
     "user_tz": 180
    },
    "id": "tWy9GFiVuDVr",
    "outputId": "ef502e55-a1fe-4951-bb7c-29a38cc65aa5"
   },
   "outputs": [],
   "source": [
    "i = 11\n",
    "ex_teste = [21,3]\n",
    "print(ex_teste)\n",
    "print(knn(treinamento, ex_teste,k=13))"
   ]
  },
  {
   "cell_type": "code",
   "execution_count": null,
   "metadata": {
    "colab": {
     "base_uri": "https://localhost:8080/",
     "height": 156
    },
    "colab_type": "code",
    "executionInfo": {
     "elapsed": 107158,
     "status": "aborted",
     "timestamp": 1566350076483,
     "user": {
      "displayName": "Billyfranklim Pereira",
      "photoUrl": "https://lh3.googleusercontent.com/a-/AAuE7mAB2PBHDfXX9k9R9k5fRjc4j8UTXi0KHDPqcoaBAcQ=s64",
      "userId": "18281492114920847785"
     },
     "user_tz": 180
    },
    "id": "j7K7OJuuuDVy",
    "outputId": "61e6d717-28ea-4e41-ddaf-382c7f7fa6f5"
   },
   "outputs": [],
   "source": [
    "%%time \n",
    "acertos, k, erros = 0,13,[]\n",
    "for amostra in teste:\n",
    "    classe = knn(treinamento,amostra, k)\n",
    "    if(amostra[-1] == classe):\n",
    "        acertos +=1\n",
    "    else:\n",
    "        erros.append(amostra)\n",
    "\n",
    "    \n",
    "print('Total de treinamento {}'.format(len(treinamento)))\n",
    "print('Total de teste {}'.format(len(teste)))\n",
    "print('Total de acertos {}'.format(acertos))\n",
    "print('Porcentagem de Acertos {}'.format(100*acertos / len(teste)))\n",
    "print(erros)\n",
    "    "
   ]
  },
  {
   "cell_type": "code",
   "execution_count": null,
   "metadata": {
    "colab": {},
    "colab_type": "code",
    "id": "qhCd4XeGuDV1"
   },
   "outputs": [],
   "source": [
    "erros = [[10, 1], [10, 1], [0, 1], [0, 1], [0, 1], [1, 1], [1, 1], [12, 1], [12, 1], [12, 1], [3, 1], [3, 1], [4, 1], [4, 1], [4, 1], [4, 1], [5, 1], [5, 1], [5, 1], [5, 1], [23, 1], [0, 1], [0, 1], [0, 1], [9, 1], [9, 1], [10, 1], [10, 1], [10, 1], [10, 1], [11, 1], [11, 1], [0, 1], [14, 1], [14, 1], [14, 1], [15, 1], [15, 1], [15, 1], [15, 1], [16, 1], [16, 1], [16, 1], [16, 1], [18, 1], [18, 1], [18, 1], [18, 1], [19, 1], [0, 1], [0, 1], [0, 1], [22, 1], [22, 1], [23, 1], [23, 1], [4, 1], [4, 1], [5, 1], [5, 1], [5, 1], [6, 1], [4, 1], [4, 1], [4, 1], [4, 1], [5, 1], [5, 1], [5, 1]]"
   ]
  },
  {
   "cell_type": "code",
   "execution_count": null,
   "metadata": {
    "colab": {},
    "colab_type": "code",
    "id": "A2WFokmXuDV4"
   },
   "outputs": [],
   "source": [
    "# aux = []\n",
    "# for i in erros:\n",
    "#     aux.append(i[0])\n",
    "# histo(aux)"
   ]
  },
  {
   "cell_type": "markdown",
   "metadata": {
    "colab_type": "text",
    "id": "e7eWuEeMweqK"
   },
   "source": [
    "#KNN com SKLEAN"
   ]
  },
  {
   "cell_type": "code",
   "execution_count": null,
   "metadata": {
    "colab": {},
    "colab_type": "code",
    "id": "_0W6csj2uDV7"
   },
   "outputs": [],
   "source": [
    "from sklearn.neighbors import KNeighborsClassifier\n",
    "entradas, saidas = [],[]"
   ]
  },
  {
   "cell_type": "code",
   "execution_count": null,
   "metadata": {},
   "outputs": [],
   "source": [
    "pip install sklearn"
   ]
  },
  {
   "cell_type": "code",
   "execution_count": null,
   "metadata": {
    "colab": {},
    "colab_type": "code",
    "id": "o7vuVKDQuDV_"
   },
   "outputs": [],
   "source": [
    "amostras = []\n",
    "for i in range(len(db)):\n",
    "    entradas.append([int(db.Hora[i]),int(db.Glicose[i])])\n",
    "    saidas.append(int(db.Status[i]))"
   ]
  },
  {
   "cell_type": "code",
   "execution_count": null,
   "metadata": {
    "colab": {},
    "colab_type": "code",
    "id": "7K0wO03_uDWH"
   },
   "outputs": [],
   "source": [
    "p = 0.9\n",
    "limite = int(p * len(entradas))"
   ]
  },
  {
   "cell_type": "code",
   "execution_count": null,
   "metadata": {
    "colab": {
     "base_uri": "https://localhost:8080/",
     "height": 119
    },
    "colab_type": "code",
    "executionInfo": {
     "elapsed": 1037,
     "status": "ok",
     "timestamp": 1566350464931,
     "user": {
      "displayName": "Billyfranklim Pereira",
      "photoUrl": "https://lh3.googleusercontent.com/a-/AAuE7mAB2PBHDfXX9k9R9k5fRjc4j8UTXi0KHDPqcoaBAcQ=s64",
      "userId": "18281492114920847785"
     },
     "user_tz": 180
    },
    "id": "9b-KfWpPuDWR",
    "outputId": "5df1984f-e06e-406e-a40d-e85253896858"
   },
   "outputs": [],
   "source": [
    "%%time \n",
    "\n",
    "knn  = KNeighborsClassifier(n_neighbors = 15)\n",
    "\n",
    "knn.fit(entradas[:limite],saidas[:limite])\n",
    "\n",
    "labels = knn.predict(entradas[limite:])\n",
    "\n",
    "acertos, indice_label,erros = 0,0,[]\n",
    "for i in range(limite,len(entradas)):\n",
    "    if(labels[indice_label] == saidas[i]):\n",
    "        acertos+=1\n",
    "    indice_label+=1\n",
    "\n",
    "print('Total de treinamento {}'.format(limite))\n",
    "print('Total de teste {}'.format(len(entradas)))\n",
    "print('Total de acertos {}'.format(acertos))\n",
    "print('Porcentagem de Acertos %.2f' % (100*acertos / (len(entradas) - limite)))"
   ]
  },
  {
   "cell_type": "code",
   "execution_count": null,
   "metadata": {
    "colab": {},
    "colab_type": "code",
    "id": "bSETwKjoyZSE"
   },
   "outputs": [],
   "source": [
    "def knn_treiner(entradas,saidas,limite,k):\n",
    "    knn  = KNeighborsClassifier(n_neighbors = k)\n",
    "\n",
    "    knn.fit(entradas[:limite],saidas[:limite])\n",
    "\n",
    "    labels = knn.predict(entradas[limite:])\n",
    "\n",
    "    acertos, indice_label,erros = 0,0,[]\n",
    "    for i in range(limite,len(entradas)):\n",
    "        if(labels[indice_label] == saidas[i]):\n",
    "            acertos+=1\n",
    "        indice_label+=1\n",
    "\n",
    "    print('Total de treinamento {}'.format(limite))\n",
    "    print('Total de teste {}'.format(len(entradas)))\n",
    "    print('Total de acertos {}'.format(acertos))\n",
    "    print('Porcentagem de Acertos %.2f' % (100*acertos / (len(entradas) - limite)))"
   ]
  },
  {
   "cell_type": "code",
   "execution_count": null,
   "metadata": {
    "colab": {
     "base_uri": "https://localhost:8080/",
     "height": 85
    },
    "colab_type": "code",
    "executionInfo": {
     "elapsed": 889,
     "status": "ok",
     "timestamp": 1566351049353,
     "user": {
      "displayName": "Billyfranklim Pereira",
      "photoUrl": "https://lh3.googleusercontent.com/a-/AAuE7mAB2PBHDfXX9k9R9k5fRjc4j8UTXi0KHDPqcoaBAcQ=s64",
      "userId": "18281492114920847785"
     },
     "user_tz": 180
    },
    "id": "Wwqk-W-Oy2Ft",
    "outputId": "4b3a136b-208e-42e0-bb58-9c448957a91a"
   },
   "outputs": [],
   "source": [
    "knn_treiner(entradas,saidas,limite,k=15)"
   ]
  },
  {
   "cell_type": "markdown",
   "metadata": {
    "colab_type": "text",
    "id": "LARaJ8hHw7Ld"
   },
   "source": [
    "##Melhor K"
   ]
  },
  {
   "cell_type": "code",
   "execution_count": null,
   "metadata": {
    "colab": {
     "base_uri": "https://localhost:8080/",
     "height": 136
    },
    "colab_type": "code",
    "executionInfo": {
     "elapsed": 37441,
     "status": "ok",
     "timestamp": 1566351218185,
     "user": {
      "displayName": "Billyfranklim Pereira",
      "photoUrl": "https://lh3.googleusercontent.com/a-/AAuE7mAB2PBHDfXX9k9R9k5fRjc4j8UTXi0KHDPqcoaBAcQ=s64",
      "userId": "18281492114920847785"
     },
     "user_tz": 180
    },
    "id": "RZFtOhWjuDWV",
    "outputId": "69bffcca-15e2-4303-ebec-6a320062d8e5"
   },
   "outputs": [],
   "source": [
    "\n",
    "%%time \n",
    "ks = {}\n",
    "for k in range(1,100):\n",
    "    \n",
    "    knn  = KNeighborsClassifier(n_neighbors = k)\n",
    "    knn.fit(entradas[:limite],saidas[:limite])\n",
    "    labels = knn.predict(entradas[limite:])\n",
    "    \n",
    "    acertos, indice_label,erros = 0,0,[]\n",
    "    \n",
    "    for i in range(limite,len(entradas)):\n",
    "        if(labels[indice_label] == saidas[i]):\n",
    "            acertos+=1\n",
    "        indice_label+=1\n",
    "    ks[k] = acertos \n",
    "\n",
    "orde = sorted(ks,key=ks.get)\n",
    "# print(orde)\n",
    "print('Total de treinamento {}'.format(limite))\n",
    "print('Total de teste {}'.format(len(entradas)))\n",
    "print('Total de acertos {}'.format(acertos))\n",
    "print('Porcentagem de Acertos %.2f' % (100*acertos / (len(entradas) - limite)))\n",
    "print(\"Melhor K:\",orde[-1])\n"
   ]
  },
  {
   "cell_type": "code",
   "execution_count": null,
   "metadata": {
    "colab": {
     "base_uri": "https://localhost:8080/",
     "height": 34
    },
    "colab_type": "code",
    "executionInfo": {
     "elapsed": 107056,
     "status": "aborted",
     "timestamp": 1566350076487,
     "user": {
      "displayName": "Billyfranklim Pereira",
      "photoUrl": "https://lh3.googleusercontent.com/a-/AAuE7mAB2PBHDfXX9k9R9k5fRjc4j8UTXi0KHDPqcoaBAcQ=s64",
      "userId": "18281492114920847785"
     },
     "user_tz": 180
    },
    "id": "b92muiMauDWc",
    "outputId": "d2a4ca52-fe28-4fd9-aa9b-a110888178b3"
   },
   "outputs": [],
   "source": [
    "hora1 = dt.strptime('19:00','%H:%M')\n",
    "hora2 = dt.strptime('19:30','%H:%M')\n",
    "\n",
    "dif = hora2 - hora1\n",
    "\n",
    "print(dif)\n",
    "# if(a > 0):\n",
    "#     print ('maior q 3')\n",
    "    \n",
    "# h1 = '2019/08/16 19:00:00'\n",
    "# h2 = '2019/08/16 19:30:00'\n",
    "\n",
    "# # date1 = int(dt.strptime(h1,'%d/%m/%Y %H:%M:%S').strftime(\"s\"))\n",
    "# a = dt.strptime(h1,'%H:%M').strftime('%H:%M')\n",
    "# # b = dt.strptime(h2,'%H:%M').strftime('%H:%M')\n",
    "\n",
    "# # type(a)\n",
    "# a\n",
    "# # if(dt.strptime(value,'%H:%M')):\n",
    "# #     print ('maior q 3')"
   ]
  },
  {
   "cell_type": "code",
   "execution_count": null,
   "metadata": {
    "colab": {
     "base_uri": "https://localhost:8080/",
     "height": 269
    },
    "colab_type": "code",
    "executionInfo": {
     "elapsed": 107048,
     "status": "aborted",
     "timestamp": 1566350076487,
     "user": {
      "displayName": "Billyfranklim Pereira",
      "photoUrl": "https://lh3.googleusercontent.com/a-/AAuE7mAB2PBHDfXX9k9R9k5fRjc4j8UTXi0KHDPqcoaBAcQ=s64",
      "userId": "18281492114920847785"
     },
     "user_tz": 180
    },
    "id": "2gKgOCF3uDWl",
    "outputId": "f15da087-5865-45d4-e4e9-986c98f16dbc"
   },
   "outputs": [],
   "source": [
    "values = [db['Status'][:10]]\n",
    "histo(values)"
   ]
  },
  {
   "cell_type": "code",
   "execution_count": null,
   "metadata": {
    "colab": {},
    "colab_type": "code",
    "id": "SOna8bk5uDWt"
   },
   "outputs": [],
   "source": [
    "# crosstab = pd.crosstab(db['G'], db['Hora'])\n",
    "# result = stats.chi2_contingency(crosstab)\n",
    "# if result[1] > 0.05:\n",
    "#     print('Não existe relação entre a variável Gênero e a variável Etnia.')\n",
    "# else:\n",
    "#     print('Existe uma relação entre a variável Gênero e a variável Etnia.')\n",
    "# print('P-valor:', result[1])\n",
    "# crosstab"
   ]
  },
  {
   "cell_type": "code",
   "execution_count": null,
   "metadata": {
    "colab": {},
    "colab_type": "code",
    "id": "U2WdblATuDWy"
   },
   "outputs": [],
   "source": [
    "# values = [db['G'][:83]]\n",
    "# histo(values)"
   ]
  },
  {
   "cell_type": "code",
   "execution_count": null,
   "metadata": {
    "colab": {},
    "colab_type": "code",
    "id": "UqAPf3z-uDW5"
   },
   "outputs": [],
   "source": [
    "# plt.plot(db.Hora[:83],db['G'][:83])\n",
    "# plt.ylabel('Glicose medida (mg/dL)')\n",
    "# plt.xlabel('Hora')\n",
    "# plt.show()"
   ]
  },
  {
   "cell_type": "code",
   "execution_count": null,
   "metadata": {
    "colab": {},
    "colab_type": "code",
    "id": "cpQIKKp4uDW9"
   },
   "outputs": [],
   "source": [
    "# dia\n",
    "# lista"
   ]
  },
  {
   "cell_type": "markdown",
   "metadata": {
    "colab_type": "text",
    "id": "vaQFQe5LuDXA"
   },
   "source": [
    "#### valores"
   ]
  }
 ],
 "metadata": {
  "colab": {
   "name": "analise.ipynb",
   "provenance": [],
   "version": "0.3.2"
  },
  "kernelspec": {
   "display_name": "Python 3",
   "language": "python",
   "name": "python3"
  },
  "language_info": {
   "codemirror_mode": {
    "name": "ipython",
    "version": 3
   },
   "file_extension": ".py",
   "mimetype": "text/x-python",
   "name": "python",
   "nbconvert_exporter": "python",
   "pygments_lexer": "ipython3",
   "version": "3.8.1"
  }
 },
 "nbformat": 4,
 "nbformat_minor": 1
}
